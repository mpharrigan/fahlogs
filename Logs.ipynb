{
 "cells": [
  {
   "cell_type": "markdown",
   "metadata": {},
   "source": [
    "# Logs\n",
    "Look at logs"
   ]
  },
  {
   "cell_type": "code",
   "execution_count": null,
   "metadata": {
    "collapsed": false
   },
   "outputs": [],
   "source": [
    "from __future__ import print_function\n",
    "import glob\n",
    "import os\n",
    "import pandas as pd\n",
    "from fahlogs import *"
   ]
  },
  {
   "cell_type": "markdown",
   "metadata": {},
   "source": [
    "## Get Log files"
   ]
  },
  {
   "cell_type": "code",
   "execution_count": null,
   "metadata": {
    "collapsed": false
   },
   "outputs": [],
   "source": [
    "_pa = os.path.expanduser(\"~/server2/data/SVR2873114978/\")\n",
    "os.chdir(_pa)"
   ]
  },
  {
   "cell_type": "code",
   "execution_count": null,
   "metadata": {
    "collapsed": false
   },
   "outputs": [],
   "source": [
    "success_logs = glob.glob(\"PROJ9704/RUN*/CLONE*/results-???/log.txt\")\n",
    "fail_logs = glob.glob(\"PROJ9704/RUN*/CLONE*/0x*/results-???/log.txt\")"
   ]
  },
  {
   "cell_type": "markdown",
   "metadata": {},
   "source": [
    "## Make them into a dataframe"
   ]
  },
  {
   "cell_type": "code",
   "execution_count": null,
   "metadata": {
    "collapsed": false
   },
   "outputs": [],
   "source": [
    "df = pd.concat([\n",
    "    pd.DataFrame([FAHLog(sl, success=True).to_dict() for sl in success_logs]),\n",
    "    pd.DataFrame([FAHLog(fl, success=False).to_dict() for fl in fail_logs])\n",
    "])\n",
    "df['time'] = pd.to_datetime(df['time'], coerce=True)\n",
    "df['finish_time'] = pd.to_datetime(df['finish_time'], coerce=True)\n",
    "df['duration'] = df['finish_time'] - df['time']\n",
    "df = df.sort('time')\n",
    "df.tail()"
   ]
  },
  {
   "cell_type": "code",
   "execution_count": null,
   "metadata": {
    "collapsed": false
   },
   "outputs": [],
   "source": [
    "df[df['success']].tail()"
   ]
  },
  {
   "cell_type": "markdown",
   "metadata": {},
   "source": [
    "## Plot WU duration"
   ]
  },
  {
   "cell_type": "code",
   "execution_count": null,
   "metadata": {
    "collapsed": false
   },
   "outputs": [],
   "source": [
    "%matplotlib inline\n",
    "import numpy as np\n",
    "from matplotlib import pyplot as plt"
   ]
  },
  {
   "cell_type": "code",
   "execution_count": null,
   "metadata": {
    "collapsed": false
   },
   "outputs": [],
   "source": [
    "duration_hours = df['duration'].dropna() / np.timedelta64(1, 'h')\n",
    "_ = plt.hist(duration_hours, bins=10)"
   ]
  },
  {
   "cell_type": "markdown",
   "metadata": {},
   "source": [
    "## Do nifty aggregation on the dataframe"
   ]
  },
  {
   "cell_type": "code",
   "execution_count": null,
   "metadata": {
    "collapsed": false
   },
   "outputs": [],
   "source": [
    "sumdf = df.groupby('name').agg(['sum', 'count'])[['success']]\n",
    "sumdf['percent'] = sumdf['success', 'sum'] / sumdf['success', 'count']\n",
    "sumdf.sort('percent')"
   ]
  },
  {
   "cell_type": "markdown",
   "metadata": {},
   "source": [
    "## Operating Systems"
   ]
  },
  {
   "cell_type": "code",
   "execution_count": null,
   "metadata": {
    "collapsed": false
   },
   "outputs": [],
   "source": [
    "df.os.value_counts()"
   ]
  },
  {
   "cell_type": "code",
   "execution_count": null,
   "metadata": {
    "collapsed": false
   },
   "outputs": [],
   "source": [
    "df.os.unique()"
   ]
  },
  {
   "cell_type": "code",
   "execution_count": null,
   "metadata": {
    "collapsed": false
   },
   "outputs": [],
   "source": [
    "for os in df.os.unique():\n",
    "    print(os)\n",
    "    print(\"------------\")\n",
    "    print(\"%r\" % df[df['os'] == os].os2.value_counts())\n",
    "    print()"
   ]
  },
  {
   "cell_type": "markdown",
   "metadata": {},
   "source": [
    "### Windows-specific analysis"
   ]
  },
  {
   "cell_type": "code",
   "execution_count": null,
   "metadata": {
    "collapsed": false
   },
   "outputs": [],
   "source": [
    "windf = df[df['os'] == 'Windows']\n",
    "sumdf = windf.groupby('name').agg(['sum', 'count'])[['success']]\n",
    "sumdf['percent'] = sumdf['success', 'sum'] / sumdf['success', 'count']\n",
    "sumdf.sort('percent')"
   ]
  }
 ],
 "metadata": {
  "kernelspec": {
   "display_name": "Python 2",
   "language": "python",
   "name": "python2"
  },
  "language_info": {
   "codemirror_mode": {
    "name": "ipython",
    "version": 2
   },
   "file_extension": ".py",
   "mimetype": "text/x-python",
   "name": "python",
   "nbconvert_exporter": "python",
   "pygments_lexer": "ipython2",
   "version": "2.7.10"
  }
 },
 "nbformat": 4,
 "nbformat_minor": 0
}
